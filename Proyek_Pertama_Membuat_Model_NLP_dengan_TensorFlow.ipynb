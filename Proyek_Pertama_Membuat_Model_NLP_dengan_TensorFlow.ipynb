{
  "nbformat": 4,
  "nbformat_minor": 0,
  "metadata": {
    "colab": {
      "name": "Proyek Pertama : Membuat Model NLP dengan TensorFlow",
      "provenance": [],
      "collapsed_sections": []
    },
    "kernelspec": {
      "name": "python3",
      "display_name": "Python 3"
    },
    "language_info": {
      "name": "python"
    }
  },
  "cells": [
    {
      "cell_type": "markdown",
      "metadata": {
        "id": "kXHIp0PPedgX"
      },
      "source": [
        "Nama : Fakhri Maulana Nurjaman\n",
        "\n",
        "Email : fakhrimaulana046@upi.edu\n",
        "\n",
        "Deskripsi\n",
        "\n",
        "data yang digunakan adalah data dari https://www.kaggle.com/hassanamin/atis-airlinetravelinformationsystem"
      ]
    },
    {
      "cell_type": "markdown",
      "metadata": {
        "id": "4I_owqcGDnyz"
      },
      "source": [
        "Membuat Model NLP dengan TensorFlow"
      ]
    },
    {
      "cell_type": "code",
      "metadata": {
        "id": "zc0zNYptfhCH"
      },
      "source": [
        "from google.colab import files\n",
        "files.upload()"
      ],
      "execution_count": null,
      "outputs": []
    },
    {
      "cell_type": "code",
      "metadata": {
        "id": "1DEJrcl5eT_S"
      },
      "source": [
        "import pandas as pd\n",
        "from sklearn.model_selection import train_test_split\n",
        "from tensorflow.keras.preprocessing.text import Tokenizer\n",
        "from tensorflow.keras.preprocessing.sequence import pad_sequences\n",
        "import tensorflow as tf\n",
        "import matplotlib.pyplot as plt\n",
        "import numpy as np"
      ],
      "execution_count": 1,
      "outputs": []
    },
    {
      "cell_type": "code",
      "metadata": {
        "colab": {
          "base_uri": "https://localhost:8080/",
          "height": 206
        },
        "id": "oiwhdnyXen9i",
        "outputId": "15d71d45-9ae7-4442-8a23-08e018e9f317"
      },
      "source": [
        "df = pd.read_csv('atis_intents.csv', names=['Label', 'Sequence'])\n",
        "df.head()"
      ],
      "execution_count": null,
      "outputs": [
        {
          "output_type": "execute_result",
          "data": {
            "text/html": [
              "<div>\n",
              "<style scoped>\n",
              "    .dataframe tbody tr th:only-of-type {\n",
              "        vertical-align: middle;\n",
              "    }\n",
              "\n",
              "    .dataframe tbody tr th {\n",
              "        vertical-align: top;\n",
              "    }\n",
              "\n",
              "    .dataframe thead th {\n",
              "        text-align: right;\n",
              "    }\n",
              "</style>\n",
              "<table border=\"1\" class=\"dataframe\">\n",
              "  <thead>\n",
              "    <tr style=\"text-align: right;\">\n",
              "      <th></th>\n",
              "      <th>Label</th>\n",
              "      <th>Sequence</th>\n",
              "    </tr>\n",
              "  </thead>\n",
              "  <tbody>\n",
              "    <tr>\n",
              "      <th>0</th>\n",
              "      <td>atis_flight</td>\n",
              "      <td>i want to fly from boston at 838 am and arriv...</td>\n",
              "    </tr>\n",
              "    <tr>\n",
              "      <th>1</th>\n",
              "      <td>atis_flight</td>\n",
              "      <td>what flights are available from pittsburgh to...</td>\n",
              "    </tr>\n",
              "    <tr>\n",
              "      <th>2</th>\n",
              "      <td>atis_flight_time</td>\n",
              "      <td>what is the arrival time in san francisco for...</td>\n",
              "    </tr>\n",
              "    <tr>\n",
              "      <th>3</th>\n",
              "      <td>atis_airfare</td>\n",
              "      <td>cheapest airfare from tacoma to orlando</td>\n",
              "    </tr>\n",
              "    <tr>\n",
              "      <th>4</th>\n",
              "      <td>atis_airfare</td>\n",
              "      <td>round trip fares from pittsburgh to philadelp...</td>\n",
              "    </tr>\n",
              "  </tbody>\n",
              "</table>\n",
              "</div>"
            ],
            "text/plain": [
              "              Label                                           Sequence\n",
              "0       atis_flight   i want to fly from boston at 838 am and arriv...\n",
              "1       atis_flight   what flights are available from pittsburgh to...\n",
              "2  atis_flight_time   what is the arrival time in san francisco for...\n",
              "3      atis_airfare            cheapest airfare from tacoma to orlando\n",
              "4      atis_airfare   round trip fares from pittsburgh to philadelp..."
            ]
          },
          "metadata": {},
          "execution_count": 9
        }
      ]
    },
    {
      "cell_type": "code",
      "metadata": {
        "colab": {
          "base_uri": "https://localhost:8080/"
        },
        "id": "Fa-QnXHdgZwz",
        "outputId": "ea1f9f9e-c736-483a-a498-e8d0448adeb4"
      },
      "source": [
        "print(df.Label.unique())\n",
        "print()\n",
        "print(len(df.Label.unique()))"
      ],
      "execution_count": null,
      "outputs": [
        {
          "output_type": "stream",
          "name": "stdout",
          "text": [
            "['atis_flight' 'atis_flight_time' 'atis_airfare' 'atis_aircraft'\n",
            " 'atis_ground_service' 'atis_airport' 'atis_airline' 'atis_distance'\n",
            " 'atis_abbreviation' 'atis_ground_fare' 'atis_quantity' 'atis_city'\n",
            " 'atis_flight_no' 'atis_capacity' 'atis_flight#atis_airfare' 'atis_meal'\n",
            " 'atis_restriction' 'atis_airline#atis_flight_no'\n",
            " 'atis_ground_service#atis_ground_fare' 'atis_airfare#atis_flight_time'\n",
            " 'atis_cheapest' 'atis_aircraft#atis_flight#atis_flight_no']\n",
            "\n",
            "22\n"
          ]
        }
      ]
    },
    {
      "cell_type": "code",
      "metadata": {
        "colab": {
          "base_uri": "https://localhost:8080/"
        },
        "id": "ZZrZ7Pwjg9uG",
        "outputId": "5e89e216-8542-4784-d2e4-32576830255d"
      },
      "source": [
        "df.info()"
      ],
      "execution_count": null,
      "outputs": [
        {
          "output_type": "stream",
          "name": "stdout",
          "text": [
            "<class 'pandas.core.frame.DataFrame'>\n",
            "RangeIndex: 4978 entries, 0 to 4977\n",
            "Data columns (total 2 columns):\n",
            " #   Column    Non-Null Count  Dtype \n",
            "---  ------    --------------  ----- \n",
            " 0   Label     4978 non-null   object\n",
            " 1   Sequence  4978 non-null   object\n",
            "dtypes: object(2)\n",
            "memory usage: 77.9+ KB\n"
          ]
        }
      ]
    },
    {
      "cell_type": "code",
      "metadata": {
        "colab": {
          "base_uri": "https://localhost:8080/",
          "height": 770
        },
        "id": "cVSTgqmqABat",
        "outputId": "7333541e-323a-4da4-93cb-07f2017d779f"
      },
      "source": [
        "df.groupby(\"Label\").count()"
      ],
      "execution_count": null,
      "outputs": [
        {
          "output_type": "execute_result",
          "data": {
            "text/html": [
              "<div>\n",
              "<style scoped>\n",
              "    .dataframe tbody tr th:only-of-type {\n",
              "        vertical-align: middle;\n",
              "    }\n",
              "\n",
              "    .dataframe tbody tr th {\n",
              "        vertical-align: top;\n",
              "    }\n",
              "\n",
              "    .dataframe thead th {\n",
              "        text-align: right;\n",
              "    }\n",
              "</style>\n",
              "<table border=\"1\" class=\"dataframe\">\n",
              "  <thead>\n",
              "    <tr style=\"text-align: right;\">\n",
              "      <th></th>\n",
              "      <th>Sequence</th>\n",
              "    </tr>\n",
              "    <tr>\n",
              "      <th>Label</th>\n",
              "      <th></th>\n",
              "    </tr>\n",
              "  </thead>\n",
              "  <tbody>\n",
              "    <tr>\n",
              "      <th>atis_abbreviation</th>\n",
              "      <td>147</td>\n",
              "    </tr>\n",
              "    <tr>\n",
              "      <th>atis_aircraft</th>\n",
              "      <td>81</td>\n",
              "    </tr>\n",
              "    <tr>\n",
              "      <th>atis_aircraft#atis_flight#atis_flight_no</th>\n",
              "      <td>1</td>\n",
              "    </tr>\n",
              "    <tr>\n",
              "      <th>atis_airfare</th>\n",
              "      <td>423</td>\n",
              "    </tr>\n",
              "    <tr>\n",
              "      <th>atis_airfare#atis_flight_time</th>\n",
              "      <td>1</td>\n",
              "    </tr>\n",
              "    <tr>\n",
              "      <th>atis_airline</th>\n",
              "      <td>157</td>\n",
              "    </tr>\n",
              "    <tr>\n",
              "      <th>atis_airline#atis_flight_no</th>\n",
              "      <td>2</td>\n",
              "    </tr>\n",
              "    <tr>\n",
              "      <th>atis_airport</th>\n",
              "      <td>20</td>\n",
              "    </tr>\n",
              "    <tr>\n",
              "      <th>atis_capacity</th>\n",
              "      <td>16</td>\n",
              "    </tr>\n",
              "    <tr>\n",
              "      <th>atis_cheapest</th>\n",
              "      <td>1</td>\n",
              "    </tr>\n",
              "    <tr>\n",
              "      <th>atis_city</th>\n",
              "      <td>19</td>\n",
              "    </tr>\n",
              "    <tr>\n",
              "      <th>atis_distance</th>\n",
              "      <td>20</td>\n",
              "    </tr>\n",
              "    <tr>\n",
              "      <th>atis_flight</th>\n",
              "      <td>3666</td>\n",
              "    </tr>\n",
              "    <tr>\n",
              "      <th>atis_flight#atis_airfare</th>\n",
              "      <td>21</td>\n",
              "    </tr>\n",
              "    <tr>\n",
              "      <th>atis_flight_no</th>\n",
              "      <td>12</td>\n",
              "    </tr>\n",
              "    <tr>\n",
              "      <th>atis_flight_time</th>\n",
              "      <td>54</td>\n",
              "    </tr>\n",
              "    <tr>\n",
              "      <th>atis_ground_fare</th>\n",
              "      <td>18</td>\n",
              "    </tr>\n",
              "    <tr>\n",
              "      <th>atis_ground_service</th>\n",
              "      <td>255</td>\n",
              "    </tr>\n",
              "    <tr>\n",
              "      <th>atis_ground_service#atis_ground_fare</th>\n",
              "      <td>1</td>\n",
              "    </tr>\n",
              "    <tr>\n",
              "      <th>atis_meal</th>\n",
              "      <td>6</td>\n",
              "    </tr>\n",
              "    <tr>\n",
              "      <th>atis_quantity</th>\n",
              "      <td>51</td>\n",
              "    </tr>\n",
              "    <tr>\n",
              "      <th>atis_restriction</th>\n",
              "      <td>6</td>\n",
              "    </tr>\n",
              "  </tbody>\n",
              "</table>\n",
              "</div>"
            ],
            "text/plain": [
              "                                          Sequence\n",
              "Label                                             \n",
              "atis_abbreviation                              147\n",
              "atis_aircraft                                   81\n",
              "atis_aircraft#atis_flight#atis_flight_no         1\n",
              "atis_airfare                                   423\n",
              "atis_airfare#atis_flight_time                    1\n",
              "atis_airline                                   157\n",
              "atis_airline#atis_flight_no                      2\n",
              "atis_airport                                    20\n",
              "atis_capacity                                   16\n",
              "atis_cheapest                                    1\n",
              "atis_city                                       19\n",
              "atis_distance                                   20\n",
              "atis_flight                                   3666\n",
              "atis_flight#atis_airfare                        21\n",
              "atis_flight_no                                  12\n",
              "atis_flight_time                                54\n",
              "atis_ground_fare                                18\n",
              "atis_ground_service                            255\n",
              "atis_ground_service#atis_ground_fare             1\n",
              "atis_meal                                        6\n",
              "atis_quantity                                   51\n",
              "atis_restriction                                 6"
            ]
          },
          "metadata": {},
          "execution_count": 133
        }
      ]
    },
    {
      "cell_type": "code",
      "metadata": {
        "colab": {
          "base_uri": "https://localhost:8080/",
          "height": 1000
        },
        "id": "Ked3UxrQib1M",
        "outputId": "99b6f069-f330-4188-98dc-5b8440fbb118"
      },
      "source": [
        "categori = pd.get_dummies(df.Label)\n",
        "new_df = pd.concat([df, categori], axis=1)\n",
        "new_df = new_df.drop(columns='Label')\n",
        "new_df"
      ],
      "execution_count": null,
      "outputs": [
        {
          "output_type": "execute_result",
          "data": {
            "text/html": [
              "<div>\n",
              "<style scoped>\n",
              "    .dataframe tbody tr th:only-of-type {\n",
              "        vertical-align: middle;\n",
              "    }\n",
              "\n",
              "    .dataframe tbody tr th {\n",
              "        vertical-align: top;\n",
              "    }\n",
              "\n",
              "    .dataframe thead th {\n",
              "        text-align: right;\n",
              "    }\n",
              "</style>\n",
              "<table border=\"1\" class=\"dataframe\">\n",
              "  <thead>\n",
              "    <tr style=\"text-align: right;\">\n",
              "      <th></th>\n",
              "      <th>Sequence</th>\n",
              "      <th>atis_abbreviation</th>\n",
              "      <th>atis_aircraft</th>\n",
              "      <th>atis_aircraft#atis_flight#atis_flight_no</th>\n",
              "      <th>atis_airfare</th>\n",
              "      <th>atis_airfare#atis_flight_time</th>\n",
              "      <th>atis_airline</th>\n",
              "      <th>atis_airline#atis_flight_no</th>\n",
              "      <th>atis_airport</th>\n",
              "      <th>atis_capacity</th>\n",
              "      <th>atis_cheapest</th>\n",
              "      <th>atis_city</th>\n",
              "      <th>atis_distance</th>\n",
              "      <th>atis_flight</th>\n",
              "      <th>atis_flight#atis_airfare</th>\n",
              "      <th>atis_flight_no</th>\n",
              "      <th>atis_flight_time</th>\n",
              "      <th>atis_ground_fare</th>\n",
              "      <th>atis_ground_service</th>\n",
              "      <th>atis_ground_service#atis_ground_fare</th>\n",
              "      <th>atis_meal</th>\n",
              "      <th>atis_quantity</th>\n",
              "      <th>atis_restriction</th>\n",
              "    </tr>\n",
              "  </thead>\n",
              "  <tbody>\n",
              "    <tr>\n",
              "      <th>0</th>\n",
              "      <td>i want to fly from boston at 838 am and arriv...</td>\n",
              "      <td>0</td>\n",
              "      <td>0</td>\n",
              "      <td>0</td>\n",
              "      <td>0</td>\n",
              "      <td>0</td>\n",
              "      <td>0</td>\n",
              "      <td>0</td>\n",
              "      <td>0</td>\n",
              "      <td>0</td>\n",
              "      <td>0</td>\n",
              "      <td>0</td>\n",
              "      <td>0</td>\n",
              "      <td>1</td>\n",
              "      <td>0</td>\n",
              "      <td>0</td>\n",
              "      <td>0</td>\n",
              "      <td>0</td>\n",
              "      <td>0</td>\n",
              "      <td>0</td>\n",
              "      <td>0</td>\n",
              "      <td>0</td>\n",
              "      <td>0</td>\n",
              "    </tr>\n",
              "    <tr>\n",
              "      <th>1</th>\n",
              "      <td>what flights are available from pittsburgh to...</td>\n",
              "      <td>0</td>\n",
              "      <td>0</td>\n",
              "      <td>0</td>\n",
              "      <td>0</td>\n",
              "      <td>0</td>\n",
              "      <td>0</td>\n",
              "      <td>0</td>\n",
              "      <td>0</td>\n",
              "      <td>0</td>\n",
              "      <td>0</td>\n",
              "      <td>0</td>\n",
              "      <td>0</td>\n",
              "      <td>1</td>\n",
              "      <td>0</td>\n",
              "      <td>0</td>\n",
              "      <td>0</td>\n",
              "      <td>0</td>\n",
              "      <td>0</td>\n",
              "      <td>0</td>\n",
              "      <td>0</td>\n",
              "      <td>0</td>\n",
              "      <td>0</td>\n",
              "    </tr>\n",
              "    <tr>\n",
              "      <th>2</th>\n",
              "      <td>what is the arrival time in san francisco for...</td>\n",
              "      <td>0</td>\n",
              "      <td>0</td>\n",
              "      <td>0</td>\n",
              "      <td>0</td>\n",
              "      <td>0</td>\n",
              "      <td>0</td>\n",
              "      <td>0</td>\n",
              "      <td>0</td>\n",
              "      <td>0</td>\n",
              "      <td>0</td>\n",
              "      <td>0</td>\n",
              "      <td>0</td>\n",
              "      <td>0</td>\n",
              "      <td>0</td>\n",
              "      <td>0</td>\n",
              "      <td>1</td>\n",
              "      <td>0</td>\n",
              "      <td>0</td>\n",
              "      <td>0</td>\n",
              "      <td>0</td>\n",
              "      <td>0</td>\n",
              "      <td>0</td>\n",
              "    </tr>\n",
              "    <tr>\n",
              "      <th>3</th>\n",
              "      <td>cheapest airfare from tacoma to orlando</td>\n",
              "      <td>0</td>\n",
              "      <td>0</td>\n",
              "      <td>0</td>\n",
              "      <td>1</td>\n",
              "      <td>0</td>\n",
              "      <td>0</td>\n",
              "      <td>0</td>\n",
              "      <td>0</td>\n",
              "      <td>0</td>\n",
              "      <td>0</td>\n",
              "      <td>0</td>\n",
              "      <td>0</td>\n",
              "      <td>0</td>\n",
              "      <td>0</td>\n",
              "      <td>0</td>\n",
              "      <td>0</td>\n",
              "      <td>0</td>\n",
              "      <td>0</td>\n",
              "      <td>0</td>\n",
              "      <td>0</td>\n",
              "      <td>0</td>\n",
              "      <td>0</td>\n",
              "    </tr>\n",
              "    <tr>\n",
              "      <th>4</th>\n",
              "      <td>round trip fares from pittsburgh to philadelp...</td>\n",
              "      <td>0</td>\n",
              "      <td>0</td>\n",
              "      <td>0</td>\n",
              "      <td>1</td>\n",
              "      <td>0</td>\n",
              "      <td>0</td>\n",
              "      <td>0</td>\n",
              "      <td>0</td>\n",
              "      <td>0</td>\n",
              "      <td>0</td>\n",
              "      <td>0</td>\n",
              "      <td>0</td>\n",
              "      <td>0</td>\n",
              "      <td>0</td>\n",
              "      <td>0</td>\n",
              "      <td>0</td>\n",
              "      <td>0</td>\n",
              "      <td>0</td>\n",
              "      <td>0</td>\n",
              "      <td>0</td>\n",
              "      <td>0</td>\n",
              "      <td>0</td>\n",
              "    </tr>\n",
              "    <tr>\n",
              "      <th>...</th>\n",
              "      <td>...</td>\n",
              "      <td>...</td>\n",
              "      <td>...</td>\n",
              "      <td>...</td>\n",
              "      <td>...</td>\n",
              "      <td>...</td>\n",
              "      <td>...</td>\n",
              "      <td>...</td>\n",
              "      <td>...</td>\n",
              "      <td>...</td>\n",
              "      <td>...</td>\n",
              "      <td>...</td>\n",
              "      <td>...</td>\n",
              "      <td>...</td>\n",
              "      <td>...</td>\n",
              "      <td>...</td>\n",
              "      <td>...</td>\n",
              "      <td>...</td>\n",
              "      <td>...</td>\n",
              "      <td>...</td>\n",
              "      <td>...</td>\n",
              "      <td>...</td>\n",
              "      <td>...</td>\n",
              "    </tr>\n",
              "    <tr>\n",
              "      <th>4973</th>\n",
              "      <td>what is the airfare for flights from denver t...</td>\n",
              "      <td>0</td>\n",
              "      <td>0</td>\n",
              "      <td>0</td>\n",
              "      <td>1</td>\n",
              "      <td>0</td>\n",
              "      <td>0</td>\n",
              "      <td>0</td>\n",
              "      <td>0</td>\n",
              "      <td>0</td>\n",
              "      <td>0</td>\n",
              "      <td>0</td>\n",
              "      <td>0</td>\n",
              "      <td>0</td>\n",
              "      <td>0</td>\n",
              "      <td>0</td>\n",
              "      <td>0</td>\n",
              "      <td>0</td>\n",
              "      <td>0</td>\n",
              "      <td>0</td>\n",
              "      <td>0</td>\n",
              "      <td>0</td>\n",
              "      <td>0</td>\n",
              "    </tr>\n",
              "    <tr>\n",
              "      <th>4974</th>\n",
              "      <td>do you have any flights from denver to baltim...</td>\n",
              "      <td>0</td>\n",
              "      <td>0</td>\n",
              "      <td>0</td>\n",
              "      <td>0</td>\n",
              "      <td>0</td>\n",
              "      <td>0</td>\n",
              "      <td>0</td>\n",
              "      <td>0</td>\n",
              "      <td>0</td>\n",
              "      <td>0</td>\n",
              "      <td>0</td>\n",
              "      <td>0</td>\n",
              "      <td>1</td>\n",
              "      <td>0</td>\n",
              "      <td>0</td>\n",
              "      <td>0</td>\n",
              "      <td>0</td>\n",
              "      <td>0</td>\n",
              "      <td>0</td>\n",
              "      <td>0</td>\n",
              "      <td>0</td>\n",
              "      <td>0</td>\n",
              "    </tr>\n",
              "    <tr>\n",
              "      <th>4975</th>\n",
              "      <td>which airlines fly into and out of denver</td>\n",
              "      <td>0</td>\n",
              "      <td>0</td>\n",
              "      <td>0</td>\n",
              "      <td>0</td>\n",
              "      <td>0</td>\n",
              "      <td>1</td>\n",
              "      <td>0</td>\n",
              "      <td>0</td>\n",
              "      <td>0</td>\n",
              "      <td>0</td>\n",
              "      <td>0</td>\n",
              "      <td>0</td>\n",
              "      <td>0</td>\n",
              "      <td>0</td>\n",
              "      <td>0</td>\n",
              "      <td>0</td>\n",
              "      <td>0</td>\n",
              "      <td>0</td>\n",
              "      <td>0</td>\n",
              "      <td>0</td>\n",
              "      <td>0</td>\n",
              "      <td>0</td>\n",
              "    </tr>\n",
              "    <tr>\n",
              "      <th>4976</th>\n",
              "      <td>does continental fly from boston to san franc...</td>\n",
              "      <td>0</td>\n",
              "      <td>0</td>\n",
              "      <td>0</td>\n",
              "      <td>0</td>\n",
              "      <td>0</td>\n",
              "      <td>0</td>\n",
              "      <td>0</td>\n",
              "      <td>0</td>\n",
              "      <td>0</td>\n",
              "      <td>0</td>\n",
              "      <td>0</td>\n",
              "      <td>0</td>\n",
              "      <td>1</td>\n",
              "      <td>0</td>\n",
              "      <td>0</td>\n",
              "      <td>0</td>\n",
              "      <td>0</td>\n",
              "      <td>0</td>\n",
              "      <td>0</td>\n",
              "      <td>0</td>\n",
              "      <td>0</td>\n",
              "      <td>0</td>\n",
              "    </tr>\n",
              "    <tr>\n",
              "      <th>4977</th>\n",
              "      <td>is there a delta flight from denver to san fr...</td>\n",
              "      <td>0</td>\n",
              "      <td>0</td>\n",
              "      <td>0</td>\n",
              "      <td>0</td>\n",
              "      <td>0</td>\n",
              "      <td>0</td>\n",
              "      <td>0</td>\n",
              "      <td>0</td>\n",
              "      <td>0</td>\n",
              "      <td>0</td>\n",
              "      <td>0</td>\n",
              "      <td>0</td>\n",
              "      <td>1</td>\n",
              "      <td>0</td>\n",
              "      <td>0</td>\n",
              "      <td>0</td>\n",
              "      <td>0</td>\n",
              "      <td>0</td>\n",
              "      <td>0</td>\n",
              "      <td>0</td>\n",
              "      <td>0</td>\n",
              "      <td>0</td>\n",
              "    </tr>\n",
              "  </tbody>\n",
              "</table>\n",
              "<p>4978 rows × 23 columns</p>\n",
              "</div>"
            ],
            "text/plain": [
              "                                               Sequence  ...  atis_restriction\n",
              "0      i want to fly from boston at 838 am and arriv...  ...                 0\n",
              "1      what flights are available from pittsburgh to...  ...                 0\n",
              "2      what is the arrival time in san francisco for...  ...                 0\n",
              "3               cheapest airfare from tacoma to orlando  ...                 0\n",
              "4      round trip fares from pittsburgh to philadelp...  ...                 0\n",
              "...                                                 ...  ...               ...\n",
              "4973   what is the airfare for flights from denver t...  ...                 0\n",
              "4974   do you have any flights from denver to baltim...  ...                 0\n",
              "4975          which airlines fly into and out of denver  ...                 0\n",
              "4976   does continental fly from boston to san franc...  ...                 0\n",
              "4977   is there a delta flight from denver to san fr...  ...                 0\n",
              "\n",
              "[4978 rows x 23 columns]"
            ]
          },
          "metadata": {},
          "execution_count": 23
        }
      ]
    },
    {
      "cell_type": "code",
      "metadata": {
        "colab": {
          "base_uri": "https://localhost:8080/"
        },
        "id": "vwhbs8cw5AEc",
        "outputId": "f6adfe4a-cd62-40a0-cd36-c9d76a3c4457"
      },
      "source": [
        "sentence"
      ],
      "execution_count": null,
      "outputs": [
        {
          "output_type": "execute_result",
          "data": {
            "text/plain": [
              "array([' i want to fly from boston at 838 am and arrive in denver at 1110 in the morning',\n",
              "       ' what flights are available from pittsburgh to baltimore on thursday morning',\n",
              "       ' what is the arrival time in san francisco for the 755 am flight leaving washington',\n",
              "       ..., ' which airlines fly into and out of denver',\n",
              "       ' does continental fly from boston to san francisco with a stop in denver',\n",
              "       ' is there a delta flight from denver to san francisco'],\n",
              "      dtype=object)"
            ]
          },
          "metadata": {},
          "execution_count": 92
        }
      ]
    },
    {
      "cell_type": "code",
      "metadata": {
        "colab": {
          "base_uri": "https://localhost:8080/"
        },
        "id": "wEOOZakei-cO",
        "outputId": "22d23a17-41a3-4451-fd66-536f28301451"
      },
      "source": [
        "sentence = new_df.Sequence.values\n",
        "label = new_df[['atis_flight', 'atis_flight_time', 'atis_airfare', 'atis_aircraft', \n",
        "                'atis_ground_service', 'atis_airport', 'atis_airline', 'atis_distance',\n",
        "                'atis_abbreviation', 'atis_ground_fare', 'atis_quantity', 'atis_city',\n",
        "                'atis_flight_no', 'atis_capacity', 'atis_flight#atis_airfare', 'atis_meal',\n",
        "                'atis_restriction', 'atis_airline#atis_flight_no', 'atis_ground_service#atis_ground_fare',\n",
        "                'atis_airfare#atis_flight_time', 'atis_cheapest', 'atis_aircraft#atis_flight#atis_flight_no']].values"
      ],
      "execution_count": null,
      "outputs": [
        {
          "output_type": "execute_result",
          "data": {
            "text/plain": [
              "array([[1, 0, 0, ..., 0, 0, 0],\n",
              "       [1, 0, 0, ..., 0, 0, 0],\n",
              "       [0, 1, 0, ..., 0, 0, 0],\n",
              "       ...,\n",
              "       [0, 0, 0, ..., 0, 0, 0],\n",
              "       [1, 0, 0, ..., 0, 0, 0],\n",
              "       [1, 0, 0, ..., 0, 0, 0]], dtype=uint8)"
            ]
          },
          "metadata": {},
          "execution_count": 29
        }
      ]
    },
    {
      "cell_type": "code",
      "metadata": {
        "id": "ibA8x7DqkJIn"
      },
      "source": [
        "# Bagi data latih dan data test\n",
        "sentence_latih, sentence_test, label_latih, label_test = train_test_split(sentence, label, test_size=0.2)\n",
        "\n",
        "#Tokenisasi\n",
        "tokenizer = Tokenizer(num_words=5000, oov_token='x')\n",
        "tokenizer.fit_on_texts(sentence_latih)\n",
        "tokenizer.fit_on_texts(sentence_test)\n",
        "\n",
        "sequence_latih = tokenizer.texts_to_sequences(sentence_latih)\n",
        "sequence_test = tokenizer.texts_to_sequences(sentence_test)\n",
        "\n",
        "#padding\n",
        "padded_latih = pad_sequences(sequence_latih)\n",
        "padded_test = pad_sequences(sequence_test)"
      ],
      "execution_count": null,
      "outputs": []
    },
    {
      "cell_type": "code",
      "metadata": {
        "colab": {
          "base_uri": "https://localhost:8080/"
        },
        "id": "rPWjq-6fl-bn",
        "outputId": "2d0782e9-8a85-4fab-b5d6-0a993da157f5"
      },
      "source": [
        "padded_test"
      ],
      "execution_count": null,
      "outputs": [
        {
          "output_type": "execute_result",
          "data": {
            "text/plain": [
              "array([[  0,   0,   0, ...,  17,  92, 260],\n",
              "       [  0,   0,   0, ..., 185,   6, 427],\n",
              "       [  0,   0,   0, ...,  90,   2, 184],\n",
              "       ...,\n",
              "       [  0,   0,   0, ...,   2,  12,  15],\n",
              "       [  0,   0,   0, ...,  20,   2,  18],\n",
              "       [  0,   0,   0, ...,  58,  16,  13]], dtype=int32)"
            ]
          },
          "metadata": {},
          "execution_count": 41
        }
      ]
    },
    {
      "cell_type": "code",
      "metadata": {
        "colab": {
          "base_uri": "https://localhost:8080/"
        },
        "id": "cEg83ERZI8Dt",
        "outputId": "5ab18ef5-71ad-4fd8-c61f-c7017f70a2ae"
      },
      "source": [
        "print(tokenizer.word_index)"
      ],
      "execution_count": null,
      "outputs": [
        {
          "output_type": "stream",
          "name": "stdout",
          "text": [
            "{'x': 1, 'to': 2, 'from': 3, 'flights': 4, 'the': 5, 'on': 6, 'me': 7, 'what': 8, 'flight': 9, 'show': 10, 'boston': 11, 'denver': 12, 'san': 13, 'a': 14, 'in': 15, 'francisco': 16, 'and': 17, 'atlanta': 18, 'i': 19, 'pittsburgh': 20, 'is': 21, 'baltimore': 22, 'dallas': 23, 'philadelphia': 24, 'all': 25, 'like': 26, 'are': 27, 'airlines': 28, 'list': 29, 'between': 30, 'of': 31, 'that': 32, 'washington': 33, 'please': 34, 'leaving': 35, 'pm': 36, 'first': 37, 'fly': 38, 'morning': 39, 'would': 40, 'for': 41, 'oakland': 42, 'you': 43, 'there': 44, 'fare': 45, 'does': 46, 'after': 47, 'class': 48, \"i'd\": 49, 'ground': 50, 'transportation': 51, 'trip': 52, 'before': 53, 'wednesday': 54, 'with': 55, 'which': 56, 'give': 57, 'new': 58, 'cheapest': 59, 'need': 60, 'leave': 61, 'american': 62, 'city': 63, 'arriving': 64, 'round': 65, 'york': 66, 'want': 67, 'nonstop': 68, 'available': 69, 'one': 70, 'afternoon': 71, 'have': 72, 'arrive': 73, 'way': 74, 'fares': 75, 'monday': 76, 'how': 77, 'dc': 78, 'at': 79, 'go': 80, 'earliest': 81, 'thursday': 82, 'tuesday': 83, 'can': 84, 'united': 85, 'airport': 86, 'noon': 87, 'information': 88, 'st': 89, 'sunday': 90, 'milwaukee': 91, 'am': 92, 'miami': 93, 'find': 94, 'vegas': 95, 'las': 96, 'charlotte': 97, 'delta': 98, 'tell': 99, 'twenty': 100, 'airline': 101, \"o'clock\": 102, 'evening': 103, 'continental': 104, 'seattle': 105, 'newark': 106, 'any': 107, 'fort': 108, 'worth': 109, 'next': 110, 'phoenix': 111, 'do': 112, 'early': 113, '5': 114, 'chicago': 115, 'august': 116, 'cost': 117, 'friday': 118, 'stop': 119, 'indianapolis': 120, \"what's\": 121, 'july': 122, 'houston': 123, 'saturday': 124, 'code': 125, 'about': 126, 'orlando': 127, 'diego': 128, 'many': 129, 'salt': 130, 'lake': 131, 'latest': 132, 'by': 133, 'kansas': 134, 'downtown': 135, 'toronto': 136, 'cleveland': 137, 'us': 138, '10': 139, 'see': 140, '8': 141, 'mean': 142, 'stopover': 143, 'petersburg': 144, 'aircraft': 145, 'expensive': 146, 'or': 147, 'seventh': 148, 'montreal': 149, 'memphis': 150, 'twa': 151, 'an': 152, 'could': 153, 'tomorrow': 154, 'around': 155, 'travel': 156, 'into': 157, 'air': 158, 'june': 159, 'least': 160, \"i'm\": 161, 'going': 162, 'los': 163, 'angeles': 164, '6': 165, 'depart': 166, 'long': 167, 'service': 168, 'dollars': 169, 'than': 170, 'nashville': 171, '4': 172, 'minneapolis': 173, 'lowest': 174, 'much': 175, 'get': 176, 'tampa': 177, 'ticket': 178, '12': 179, 'okay': 180, 'type': 181, 'economy': 182, 'know': 183, 'cincinnati': 184, 'return': 185, 'beach': 186, 'international': 187, 'time': 188, 'california': 189, '9': 190, 'book': 191, 'jose': 192, '7': 193, 'be': 194, 'detroit': 195, 'louis': 196, 'last': 197, 'day': 198, 'may': 199, 'tacoma': 200, 'northwest': 201, 'goes': 202, 'now': 203, 'daily': 204, 'flying': 205, 'third': 206, 'times': 207, '2': 208, 'november': 209, 'burbank': 210, 'airports': 211, 'departing': 212, 'number': 213, 'used': 214, 'columbus': 215, 'it': 216, 'kind': 217, 'less': 218, 'meal': 219, 'arrives': 220, 'leaves': 221, 'coach': 222, 'f': 223, 'night': 224, 'september': 225, 'serve': 226, 'serves': 227, 'has': 228, '1991': 229, 'stops': 230, 'most': 231, 'direct': 232, 'e': 233, 'paul': 234, 'as': 235, 'eastern': 236, 'late': 237, 'love': 238, 'field': 239, 'fourth': 240, 'december': 241, 'h': 242, 'general': 243, 'mitchell': 244, 'ewr': 245, 'arrangements': 246, 'airfare': 247, 'fifteenth': 248, 'returning': 249, '1000': 250, 'stand': 251, 'your': 252, 'today': 253, 'make': 254, 'breakfast': 255, 'flies': 256, 'then': 257, 'take': 258, 'la': 259, 'schedule': 260, 'cities': 261, 'tenth': 262, 'second': 263, 'price': 264, 'fifth': 265, 'dl': 266, 'interested': 267, 't': 268, 'r': 269, 'january': 270, 'two': 271, '3': 272, 'rental': 273, 'westchester': 274, 'out': 275, 'display': 276, 'county': 277, 'wednesdays': 278, 'possible': 279, 'limousine': 280, 'looking': 281, 'april': 282, 'classes': 283, 'north': 284, 'carolina': 285, 'tickets': 286, 'restriction': 287, 'should': 288, 'business': 289, 'twentieth': 290, 's': 291, 'served': 292, 'ua': 293, 'week': 294, 'abbreviation': 295, 'same': 296, 'yn': 297, 'back': 298, 'o': 299, 'n': 300, 'midwest': 301, 'express': 302, 'car': 303, 'stopping': 304, 'october': 305, 'under': 306, 'this': 307, 'eighth': 308, 'canadian': 309, 'colorado': 310, 'meals': 311, 'connecting': 312, 'jersey': 313, 'dinner': 314, 'also': 315, 'prices': 316, 'departure': 317, 'will': 318, 'thank': 319, 'my': 320, 'ontario': 321, 'via': 322, 'march': 323, 'traveling': 324, 'other': 325, 'through': 326, 'offer': 327, 'uses': 328, 'ninth': 329, 'plane': 330, 'trying': 331, 'later': 332, 'sixth': 333, 'bwi': 334, 'ea': 335, '747': 336, 'lufthansa': 337, 'arrivals': 338, 'types': 339, 'where': 340, 'either': 341, 'qx': 342, 'florida': 343, 'again': 344, 'd': 345, 'c': 346, 'guardia': 347, 'l': 348, 'airplane': 349, 'makes': 350, 'when': 351, 'mco': 352, 'live': 353, 'hi': 354, 'but': 355, 'using': 356, '466': 357, 'far': 358, '281': 359, 'q': 360, 'qw': 361, '630': 362, 'name': 363, 'days': 364, 'ff': 365, 'ap': 366, 'midnight': 367, 'sometime': 368, \"what're\": 369, 'anywhere': 370, '430': 371, 'eighteenth': 372, \"let's\": 373, 'georgia': 374, 'thirtieth': 375, 'hello': 376, 'seats': 377, 'land': 378, 'passengers': 379, 'pennsylvania': 380, 'amount': 381, 'help': 382, '1': 383, 'listing': 384, 'texas': 385, 'provide': 386, 'nw': 387, 'sorry': 388, 'cars': 389, 'eleventh': 390, '1222': 391, 'look': 392, 'buy': 393, 'twelfth': 394, 'lunch': 395, 'smallest': 396, 'transport': 397, 'explain': 398, '57': 399, 'y': 400, 'thirty': 401, 'seventeenth': 402, 'fourteenth': 403, 'shortest': 404, 'layover': 405, 'right': 406, 'some': 407, 'landings': 408, 'no': 409, 'distance': 410, 'codes': 411, 'use': 412, 'serving': 413, 'hours': 414, 'logan': 415, 'm': 416, 'booking': 417, 'arrange': 418, 'canada': 419, 'numbers': 420, 'qo': 421, 'sfo': 422, '530': 423, 'southwest': 424, 'making': 425, 'starting': 426, '838': 427, 'mornings': 428, 'jfk': 429, 'provided': 430, 'arrival': 431, 'ohio': 432, 'g': 433, 'v': 434, 'more': 435, 'requesting': 436, '1115': 437, '1245': 438, 'tuesdays': 439, 'departs': 440, 'sixteen': 441, 'total': 442, 'saturdays': 443, 'area': 444, '1992': 445, 'ap57': 446, 'those': 447, 'cheap': 448, 'connect': 449, '230': 450, 'so': 451, 'rates': 452, 'originating': 453, 'only': 454, 'options': 455, 'f28': 456, 'co': 457, 'plan': 458, 'turboprop': 459, 'ap80': 460, 'dc10': 461, 'services': 462, 'define': 463, 'reservation': 464, \"delta's\": 465, 'minnesota': 466, 'fit': 467, 'heading': 468, 'maximum': 469, 'choices': 470, 'noontime': 471, 'thursdays': 472, 'close': 473, 'very': 474, '210': 475, 'midway': 476, 'located': 477, 'soon': 478, 'earlier': 479, 'carries': 480, 'schedules': 481, 'within': 482, 'say': 483, 'train': 484, 'thirteenth': 485, 'they': 486, '2134': 487, 'ord': 488, 'airplanes': 489, 'tower': 490, '201': 491, 'originate': 492, 'dinnertime': 493, 'transcontinental': 494, 'cp': 495, 'just': 496, 'itinerary': 497, 'four': 498, 'still': 499, 'lastest': 500, 'arizona': 501, '72s': 502, '852': 503, 'philly': 504, 'reservations': 505, 'limo': 506, 'concerning': 507, 'longest': 508, 'grounds': 509, '420': 510, 'directly': 511, 'oh': 512, 'connects': 513, '1600': 514, '257': 515, 'wanted': 516, 'mia': 517, '539': 518, \"it's\": 519, 'sort': 520, 'seat': 521, 'takes': 522, 'charges': 523, 'lester': 524, 'pearson': 525, '1993': 526, 'seven': 527, '734': 528, '1024': 529, 'd9s': 530, 'run': 531, \"friday's\": 532, '500': 533, 'airfares': 534, 'question': 535, 'reaches': 536, '1850': 537, '329': 538, \"wednesday's\": 539, 'advertises': 540, 'having': 541, 'bna': 542, '1026': 543, 'prefer': 544, 'besides': 545, '445': 546, '515': 547, 'place': 548, 'aa': 549, '459': 550, '200': 551, 'listed': 552, '1055': 553, '405': 554, 'mealtime': 555, '305': 556, 'capacity': 557, 'if': 558, 'sixteenth': 559, 'seating': 560, 'weekday': 561, 'nineteenth': 562, 'planes': 563, 'people': 564, 'dfw': 565, 'hp': 566, 'each': 567, 'both': 568, '11': 569, 'yes': 570, 'boeing': 571, 'over': 572, 'february': 573, 'takeoffs': 574, 'during': 575, '1100': 576, 'coming': 577, 'nationair': 578, 'their': 579, \"i'll\": 580, 'rent': 581, 'thrift': 582, 'these': 583, 'costs': 584, 'stopovers': 585, 'another': 586, 'weekdays': 587, 'following': 588, '825': 589, 'six': 590, 'near': 591, 'departures': 592, '718': 593, '2100': 594, 'destination': 595, 'taxi': 596, 'fn': 597, '1291': 598, '415': 599, 'sa': 600, 'well': 601, 'three': 602, 'describe': 603, '296': 604, '21': 605, 'kinds': 606, 'different': 607, 'offers': 608, '270': 609, 'ten': 610, '813': 611, '737': 612, 'include': 613, 'stands': 614, 'wish': 615, 'trips': 616, 'meaning': 617, 'connections': 618, '80': 619, '555': 620, 'great': 621, \"we're\": 622, 'america': 623, 'west': 624, '934': 625, 'tennessee': 626, 'sundays': 627, 'rentals': 628, 'nonstops': 629, '727': 630, '505': 631, 'without': 632, 'along': 633, 'friends': 634, 'here': 635, 'lives': 636, 'serviced': 637, 'repeat': 638, 'takeoff': 639, 'too': 640, 'm80': 641, 'rate': 642, 'difference': 643, 'b': 644, 'various': 645, 'approximately': 646, 'restrictions': 647, 'ac': 648, '1110': 649, '100': 650, 'eight': 651, \"sunday's\": 652, 'bound': 653, '932': 654, \"york's\": 655, 'actually': 656, '1145': 657, '757': 658, 'missouri': 659, 'utah': 660, 'stapleton': 661, 'names': 662, 'taking': 663, 'connection': 664, '1765': 665, '1700': 666, '1039': 667, 'up': 668, 'abbreviations': 669, 'landing': 670, '845': 671, 'month': 672, 'highest': 673, '324': 674, 'alaska': 675, '343': 676, 'quebec': 677, '755': 678, 'michigan': 679, 'snack': 680, 'reaching': 681, 'who': 682, 'dulles': 683, '767': 684, '3724': 685, \"atlanta's\": 686, 'sure': 687, 'atl': 688, '720': 689, \"american's\": 690, 'database': 691, '269': 692, '217': 693, 'order': 694, '723': 695, '1045': 696, 'catch': 697, 'working': 698, 'scenario': 699, 'able': 700, 'put': 701, \"that's\": 702, '163': 703, 'fine': 704, 'symbols': 705, 'visit': 706, 'them': 707, 'k': 708, 'overnight': 709, '110': 710, '497766': 711, 'try': 712, 'across': 713, 'continent': 714, 'belong': 715, 'provides': 716, 'thereafter': 717, 'thanks': 718, 'operation': 719, 'continuing': 720, '416': 721, 'zone': 722, '1017': 723, '297': 724, '4400': 725, 'ls': 726, '1083': 727, 'gets': 728, '771': 729, '82': 730, '139': 731, 'nevada': 732, 'straight': 733, '315': 734, 'limousines': 735, 'town': 736, 'whether': 737, 'offered': 738, '311': 739, 'once': 740, 'anything': 741, 'date': 742, 'hold': 743, 'being': 744, 'vicinity': 745, 'j31': 746, 'hopefully': 747, 'nights': 748, 'discount': 749, '823': 750, 'local': 751, 'preferably': 752, '124': 753, 'eleven': 754, 'off': 755, 'afternoons': 756, 'fifteen': 757, '810': 758, '212': 759, 'tonight': 760, 'listings': 761, 'runs': 762, 'seventeen': 763, '19': 764, '130': 765, '271': 766, '815': 767, '73s': 768, 'let': 769, '150': 770, 'indiana': 771, 'including': 772, 'toward': 773, 'lax': 774, 'sd': 775, '1209': 776, '279': 777, '137338': 778, '402': 779, \"one's\": 780, 'nighttime': 781, 'closest': 782, '819': 783, 'bring': 784, '106': 785, '1205': 786, 'includes': 787, '1133': 788, '43': 789, 'bur': 790, '55': 791, 'currently': 792, \"don't\": 793, '400': 794, 'cover': 795, 'equal': 796, \"doesn't\": 797, 'operating': 798, 'supper': 799, '345': 800, 'kindly': 801, 'calling': 802, 'iah': 803, 'locate': 804, 'hartfield': 805, '3357': 806, 'summer': 807, 'travels': 808, 'level': 809, 'fridays': 810, 'jet': 811, '645': 812, '225': 813, '1158': 814, 'equipment': 815, 'capacities': 816, \"o'hare\": 817, 'mondays': 818, '1230': 819, 'ap68': 820, 'afterwards': 821, 'route': 822, '1500': 823, 'thing': 824, 'greatest': 825, 'come': 826, 'scheduled': 827, 'such': 828, '928': 829, '98': 830, 'reverse': 831, 'planning': 832, 'usa': 833, 'start': 834, 'economic': 835, 'repeating': 836, 'yyz': 837, 'instead': 838, 'regarding': 839, 'non': 840, '1940': 841, 'home': 842, 'd10': 843, 'trans': 844, 'world': 845, '1030': 846, '1130': 847, '2153': 848, \"i've\": 849, 'got': 850, 'somebody': 851, 'else': 852, 'wants': 853, '733': 854, 'enroute': 855, '352': 856, '1200': 857, '417': 858, 'single': 859, '705': 860, 'year': 861, '1059': 862, 'twelve': 863, 'represented': 864, 'designate': 865, '428': 866, 'bay': 867, '71': 868, 'spend': 869, 'staying': 870, 'proper': 871, 'determine': 872, '1220': 873, 'while': 874, 'oak': 875, 'minimum': 876, 'intercontinental': 877, '650': 878, 'qualify': 879, '746': 880, '615': 881, 'priced': 882, 'everywhere': 883, 'red': 884, 'eye': 885, 'final': 886, 'carried': 887, '1288': 888, 'sounds': 889, '323': 890, '229': 891, 'inexpensive': 892, 'must': 893, 'companies': 894, '0900': 895, 'hou': 896, 'laying': 897, 'inform': 898, '300': 899, 'largest': 900, '1020': 901, 'beginning': 902, 'begins': 903, 'lands': 904, '1505': 905, '1300': 906, '730': 907}\n"
          ]
        }
      ]
    },
    {
      "cell_type": "code",
      "metadata": {
        "id": "bxIewTgsmBjk"
      },
      "source": [
        "model = tf.keras.models.Sequential([tf.keras.layers.Embedding(input_dim=5000, output_dim=16),\n",
        "                                    tf.keras.layers.LSTM(64),\n",
        "                                    tf.keras.layers.Dense(128, activation='relu'),\n",
        "                                    tf.keras.layers.Dense(64, activation='relu'),\n",
        "                                    tf.keras.layers.Dense(32, activation='relu'),\n",
        "                                    tf.keras.layers.Dense(22, activation='softmax'),\n",
        "                                    tf.keras.layers.Dropout(0.01)])\n",
        "\n",
        "model.compile(optimizer=tf.keras.optimizers.Adam(),\n",
        "              loss='categorical_crossentropy',\n",
        "              metrics=['accuracy'])"
      ],
      "execution_count": null,
      "outputs": []
    },
    {
      "cell_type": "code",
      "metadata": {
        "id": "_6cUE8OAnuvI"
      },
      "source": [
        "class myCallback(tf.keras.callbacks.Callback):\n",
        "  def on_epoch_end(self, epoch, logs={}):\n",
        "    if (logs.get('accuracy')>0.95):\n",
        "      print(\"\\nAkurasi telah mencapai > 95%!\")\n",
        "      self.model.stop_training = True\n",
        "\n",
        "callback = myCallback()"
      ],
      "execution_count": null,
      "outputs": []
    },
    {
      "cell_type": "code",
      "metadata": {
        "colab": {
          "base_uri": "https://localhost:8080/"
        },
        "id": "FrniSCx_onOW",
        "outputId": "103e044a-9094-4144-f318-66c798e8e7c7"
      },
      "source": [
        "history = model.fit(padded_latih, label_latih,\n",
        "                    callbacks=[callback],\n",
        "                    epochs=30,\n",
        "                    validation_data=(padded_test, label_test),\n",
        "                    batch_size=128,\n",
        "                    verbose=2)"
      ],
      "execution_count": null,
      "outputs": [
        {
          "output_type": "stream",
          "name": "stdout",
          "text": [
            "Epoch 1/30\n",
            "32/32 - 47s - loss: 2.2421 - accuracy: 0.7097 - val_loss: 1.3125 - val_accuracy: 0.7279\n",
            "Epoch 2/30\n",
            "32/32 - 2s - loss: 1.3696 - accuracy: 0.7318 - val_loss: 1.2189 - val_accuracy: 0.7279\n",
            "Epoch 3/30\n",
            "32/32 - 2s - loss: 1.3127 - accuracy: 0.7303 - val_loss: 1.1812 - val_accuracy: 0.7279\n",
            "Epoch 4/30\n",
            "32/32 - 2s - loss: 1.2520 - accuracy: 0.7320 - val_loss: 1.1501 - val_accuracy: 0.7279\n",
            "Epoch 5/30\n",
            "32/32 - 2s - loss: 1.2060 - accuracy: 0.7330 - val_loss: 1.0833 - val_accuracy: 0.7279\n",
            "Epoch 6/30\n",
            "32/32 - 2s - loss: 1.0586 - accuracy: 0.7338 - val_loss: 0.8810 - val_accuracy: 0.7319\n",
            "Epoch 7/30\n",
            "32/32 - 2s - loss: 0.9342 - accuracy: 0.7695 - val_loss: 0.7904 - val_accuracy: 0.7831\n",
            "Epoch 8/30\n",
            "32/32 - 2s - loss: 0.8738 - accuracy: 0.7968 - val_loss: 0.7028 - val_accuracy: 0.8143\n",
            "Epoch 9/30\n",
            "32/32 - 2s - loss: 0.7796 - accuracy: 0.8227 - val_loss: 0.6408 - val_accuracy: 0.8193\n",
            "Epoch 10/30\n",
            "32/32 - 2s - loss: 0.7071 - accuracy: 0.8360 - val_loss: 0.6044 - val_accuracy: 0.8283\n",
            "Epoch 11/30\n",
            "32/32 - 2s - loss: 0.6547 - accuracy: 0.8536 - val_loss: 0.5599 - val_accuracy: 0.8524\n",
            "Epoch 12/30\n",
            "32/32 - 2s - loss: 0.7119 - accuracy: 0.8360 - val_loss: 0.5708 - val_accuracy: 0.8504\n",
            "Epoch 13/30\n",
            "32/32 - 2s - loss: 0.6484 - accuracy: 0.8679 - val_loss: 0.5169 - val_accuracy: 0.8635\n",
            "Epoch 14/30\n",
            "32/32 - 2s - loss: 0.5607 - accuracy: 0.8860 - val_loss: 0.4598 - val_accuracy: 0.8775\n",
            "Epoch 15/30\n",
            "32/32 - 2s - loss: 0.4762 - accuracy: 0.8953 - val_loss: 0.4284 - val_accuracy: 0.8835\n",
            "Epoch 16/30\n",
            "32/32 - 2s - loss: 0.4677 - accuracy: 0.9018 - val_loss: 0.4166 - val_accuracy: 0.8876\n",
            "Epoch 17/30\n",
            "32/32 - 2s - loss: 0.4329 - accuracy: 0.9111 - val_loss: 0.3848 - val_accuracy: 0.8886\n",
            "Epoch 18/30\n",
            "32/32 - 2s - loss: 0.4512 - accuracy: 0.9131 - val_loss: 0.3539 - val_accuracy: 0.9006\n",
            "Epoch 19/30\n",
            "32/32 - 2s - loss: 0.4099 - accuracy: 0.9221 - val_loss: 0.3655 - val_accuracy: 0.8946\n",
            "Epoch 20/30\n",
            "32/32 - 2s - loss: 0.4013 - accuracy: 0.9211 - val_loss: 0.3394 - val_accuracy: 0.9046\n",
            "Epoch 21/30\n",
            "32/32 - 2s - loss: 0.3514 - accuracy: 0.9292 - val_loss: 0.3429 - val_accuracy: 0.9046\n",
            "Epoch 22/30\n",
            "32/32 - 2s - loss: 0.3399 - accuracy: 0.9372 - val_loss: 0.3649 - val_accuracy: 0.9036\n",
            "Epoch 23/30\n",
            "32/32 - 2s - loss: 0.3376 - accuracy: 0.9382 - val_loss: 0.3373 - val_accuracy: 0.9086\n",
            "Epoch 24/30\n",
            "32/32 - 2s - loss: 0.3261 - accuracy: 0.9385 - val_loss: 0.3354 - val_accuracy: 0.9157\n",
            "Epoch 25/30\n",
            "32/32 - 2s - loss: 0.3353 - accuracy: 0.9453 - val_loss: 0.4118 - val_accuracy: 0.8926\n",
            "Epoch 26/30\n",
            "32/32 - 2s - loss: 0.3344 - accuracy: 0.9475 - val_loss: 0.3096 - val_accuracy: 0.9257\n",
            "Epoch 27/30\n",
            "32/32 - 2s - loss: 0.3111 - accuracy: 0.9510 - val_loss: 0.3708 - val_accuracy: 0.9066\n",
            "\n",
            "Akurasi telah mencapai > 95%!\n"
          ]
        }
      ]
    },
    {
      "cell_type": "code",
      "metadata": {
        "colab": {
          "base_uri": "https://localhost:8080/"
        },
        "id": "gMieqDi1J07s",
        "outputId": "6ee38e65-03ec-45b3-f108-c7768a20e7c0"
      },
      "source": [
        "model.summary()"
      ],
      "execution_count": null,
      "outputs": [
        {
          "output_type": "stream",
          "name": "stdout",
          "text": [
            "Model: \"sequential_22\"\n",
            "_________________________________________________________________\n",
            "Layer (type)                 Output Shape              Param #   \n",
            "=================================================================\n",
            "embedding_23 (Embedding)     (None, None, 16)          80000     \n",
            "_________________________________________________________________\n",
            "lstm_21 (LSTM)               (None, 64)                20736     \n",
            "_________________________________________________________________\n",
            "dense_78 (Dense)             (None, 128)               8320      \n",
            "_________________________________________________________________\n",
            "dense_79 (Dense)             (None, 64)                8256      \n",
            "_________________________________________________________________\n",
            "dense_80 (Dense)             (None, 32)                2080      \n",
            "_________________________________________________________________\n",
            "dense_81 (Dense)             (None, 22)                726       \n",
            "_________________________________________________________________\n",
            "dropout_15 (Dropout)         (None, 22)                0         \n",
            "=================================================================\n",
            "Total params: 120,118\n",
            "Trainable params: 120,118\n",
            "Non-trainable params: 0\n",
            "_________________________________________________________________\n"
          ]
        }
      ]
    },
    {
      "cell_type": "code",
      "metadata": {
        "colab": {
          "base_uri": "https://localhost:8080/",
          "height": 295
        },
        "id": "fVWmLYPvu8xz",
        "outputId": "09b2873d-e251-427a-a53c-a52475aa1d1a"
      },
      "source": [
        "import matplotlib.pyplot as plt\n",
        "plt.plot(history.history['accuracy'])\n",
        "plt.plot(history.history['val_accuracy'])\n",
        "plt.title('Akurasi Model')\n",
        "plt.ylabel('accuracy')\n",
        "plt.xlabel('epoch')\n",
        "plt.legend(['train', 'test'], loc='upper left')\n",
        "plt.show()"
      ],
      "execution_count": null,
      "outputs": [
        {
          "output_type": "display_data",
          "data": {
            "image/png": "[encoded data removed]",
            "text/plain": [
              "<Figure size 432x288 with 1 Axes>"
            ]
          },
          "metadata": {
            "needs_background": "light"
          }
        }
      ]
    },
    {
      "cell_type": "code",
      "metadata": {
        "colab": {
          "base_uri": "https://localhost:8080/",
          "height": 295
        },
        "id": "iHjVaZBFzofp",
        "outputId": "479f79af-bfbe-4409-f1af-9802a904b599"
      },
      "source": [
        "plt.plot(history.history['loss'])\n",
        "plt.plot(history.history['val_loss'])\n",
        "plt.title('Loss Model')\n",
        "plt.ylabel('loss')\n",
        "plt.xlabel('epoch')\n",
        "plt.legend(['train', 'test'], loc='upper left')\n",
        "plt.show()"
      ],
      "execution_count": null,
      "outputs": [
        {
          "output_type": "display_data",
          "data": {
            "image/png": "[encoded data removed]",
            "text/plain": [
              "<Figure size 432x288 with 1 Axes>"
            ]
          },
          "metadata": {
            "needs_background": "light"
          }
        }
      ]
    },
    {
      "cell_type": "code",
      "metadata": {
        "colab": {
          "base_uri": "https://localhost:8080/"
        },
        "id": "dihx9rUo5Ug7",
        "outputId": "d9e95d8a-1558-4c5a-ec7b-3b5df8dd6604"
      },
      "source": [
        "x = 'is there a delta flight from denver to san francisco'\n",
        "tokenizer.fit_on_texts(x)\n",
        "sequence_x = tokenizer.texts_to_sequences([x])\n",
        "padding_x = pad_sequences(sequence_x)\n",
        "sequence_x"
      ],
      "execution_count": null,
      "outputs": [
        {
          "output_type": "execute_result",
          "data": {
            "text/plain": [
              "[[21, 44, 14, 98, 9, 3, 12, 2, 13, 15]]"
            ]
          },
          "metadata": {},
          "execution_count": 129
        }
      ]
    },
    {
      "cell_type": "code",
      "metadata": {
        "id": "F11mMRJE5OgX"
      },
      "source": [
        "y_pred = model.predict(padding_x)\n",
        "y_test_class = np.argmax(label_test, axis=1)\n",
        "y_pred_class = np.argmax(y_pred, axis=1)"
      ],
      "execution_count": null,
      "outputs": []
    },
    {
      "cell_type": "code",
      "metadata": {
        "colab": {
          "base_uri": "https://localhost:8080/"
        },
        "id": "x3LUWIxw9rw0",
        "outputId": "311d5fd9-5ed0-420d-99ab-8e3865e86230"
      },
      "source": [
        "y_pred"
      ],
      "execution_count": null,
      "outputs": [
        {
          "output_type": "execute_result",
          "data": {
            "text/plain": [
              "array([[9.8532641e-01, 1.0934656e-03, 2.5306117e-05, 7.5268341e-05,\n",
              "        1.1772057e-06, 1.6575018e-03, 2.7215166e-03, 7.9941304e-07,\n",
              "        2.0236257e-04, 4.0665800e-09, 2.6528778e-07, 5.9893983e-04,\n",
              "        4.1334298e-03, 7.5975964e-07, 3.7999509e-03, 2.1132674e-04,\n",
              "        1.0635451e-04, 4.2371321e-05, 2.9830332e-08, 4.0353223e-07,\n",
              "        7.9686089e-07, 1.6021161e-06]], dtype=float32)"
            ]
          },
          "metadata": {},
          "execution_count": 131
        }
      ]
    },
    {
      "cell_type": "code",
      "metadata": {
        "colab": {
          "base_uri": "https://localhost:8080/"
        },
        "id": "trvGvyEc9vP8",
        "outputId": "08edcb6c-a1ef-4272-d26b-0589f264f2ec"
      },
      "source": [
        "y_pred_class"
      ],
      "execution_count": null,
      "outputs": [
        {
          "output_type": "execute_result",
          "data": {
            "text/plain": [
              "array([0])"
            ]
          },
          "metadata": {},
          "execution_count": 132
        }
      ]
    }
  ]
}